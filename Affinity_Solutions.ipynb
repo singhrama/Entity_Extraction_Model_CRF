{
 "cells": [
  {
   "cell_type": "code",
   "execution_count": null,
   "id": "f09f30e3",
   "metadata": {},
   "outputs": [],
   "source": [
    "!pip uninstall pandas"
   ]
  },
  {
   "cell_type": "code",
   "execution_count": null,
   "id": "89ba9cbf",
   "metadata": {},
   "outputs": [],
   "source": [
    "!pip install pandas"
   ]
  },
  {
   "cell_type": "code",
   "execution_count": null,
   "id": "8e0657a7",
   "metadata": {},
   "outputs": [],
   "source": [
    "import pandas"
   ]
  },
  {
   "cell_type": "code",
   "execution_count": 13,
   "id": "954f1741",
   "metadata": {},
   "outputs": [
    {
     "name": "stdout",
     "output_type": "stream",
     "text": [
      "Requirement already satisfied: google in d:\\installation\\anaconda\\lib\\site-packages (3.0.0)\n",
      "Requirement already satisfied: beautifulsoup4 in d:\\installation\\anaconda\\lib\\site-packages (from google) (4.9.3)\n",
      "Requirement already satisfied: soupsieve>1.2 in d:\\installation\\anaconda\\lib\\site-packages (from beautifulsoup4->google) (2.2.1)\n"
     ]
    }
   ],
   "source": [
    "!pip install google"
   ]
  },
  {
   "cell_type": "code",
   "execution_count": 11,
   "id": "8126235a",
   "metadata": {},
   "outputs": [
    {
     "ename": "ModuleNotFoundError",
     "evalue": "No module named 'google'",
     "output_type": "error",
     "traceback": [
      "\u001b[1;31m---------------------------------------------------------------------------\u001b[0m",
      "\u001b[1;31mModuleNotFoundError\u001b[0m                       Traceback (most recent call last)",
      "\u001b[1;32m<ipython-input-11-93f8cbc33ddf>\u001b[0m in \u001b[0;36m<module>\u001b[1;34m\u001b[0m\n\u001b[1;32m----> 1\u001b[1;33m \u001b[1;32mfrom\u001b[0m \u001b[0mgoogle\u001b[0m\u001b[1;33m.\u001b[0m\u001b[0mcolab\u001b[0m \u001b[1;32mimport\u001b[0m \u001b[0mauth\u001b[0m\u001b[1;33m\u001b[0m\u001b[1;33m\u001b[0m\u001b[0m\n\u001b[0m\u001b[0;32m      2\u001b[0m \u001b[0mauth\u001b[0m\u001b[1;33m.\u001b[0m\u001b[0mauthenticate_user\u001b[0m\u001b[1;33m(\u001b[0m\u001b[1;33m)\u001b[0m\u001b[1;33m\u001b[0m\u001b[1;33m\u001b[0m\u001b[0m\n\u001b[0;32m      3\u001b[0m \u001b[0mprint\u001b[0m\u001b[1;33m(\u001b[0m\u001b[1;34m'Authenticated'\u001b[0m\u001b[1;33m)\u001b[0m\u001b[1;33m\u001b[0m\u001b[1;33m\u001b[0m\u001b[0m\n",
      "\u001b[1;31mModuleNotFoundError\u001b[0m: No module named 'google'"
     ]
    }
   ],
   "source": [
    "from google.colab import auth\n",
    "auth.authenticate_user()\n",
    "print('Authenticated')"
   ]
  },
  {
   "cell_type": "code",
   "execution_count": null,
   "id": "8a5377bf",
   "metadata": {},
   "outputs": [],
   "source": [
    "import numpy as np\n",
    "import json\n",
    "import os"
   ]
  },
  {
   "cell_type": "code",
   "execution_count": 2,
   "id": "b0e676ea",
   "metadata": {},
   "outputs": [
    {
     "name": "stdout",
     "output_type": "stream",
     "text": [
      "[10, 14, 44, 194, 108, 124, 154, 46, 146, 122]\n"
     ]
    }
   ],
   "source": [
    "li = [5, 7, 22, 97, 54, 62, 77, 23, 73, 61]\n",
    " \n",
    "final_list = list(map(lambda x: x*2, li))\n",
    "print(final_list)"
   ]
  },
  {
   "cell_type": "code",
   "execution_count": 7,
   "id": "30f92bc4",
   "metadata": {},
   "outputs": [
    {
     "data": {
      "text/plain": [
       "[5, 7, 22, 97, 54, 62, 77, 23, 73, 61]"
      ]
     },
     "execution_count": 7,
     "metadata": {},
     "output_type": "execute_result"
    }
   ],
   "source": [
    "final_list = list(filter(lambda x: x*2, li))\n",
    "final_list"
   ]
  },
  {
   "cell_type": "code",
   "execution_count": 5,
   "id": "e6127919",
   "metadata": {
    "scrolled": true
   },
   "outputs": [
    {
     "data": {
      "text/plain": [
       "'C:\\\\Users\\\\singh'"
      ]
     },
     "execution_count": 5,
     "metadata": {},
     "output_type": "execute_result"
    }
   ],
   "source": [
    "os.getcwd()"
   ]
  },
  {
   "cell_type": "code",
   "execution_count": 131,
   "id": "11db5258",
   "metadata": {},
   "outputs": [],
   "source": [
    "p = \"63256922\"\n",
    "r = \"63206922\""
   ]
  },
  {
   "cell_type": "code",
   "execution_count": 122,
   "id": "118be281",
   "metadata": {},
   "outputs": [],
   "source": [
    "dictionary = { p : p }\n",
    "    \n",
    "with open(\"sample.json\", \"w\") as outfile:\n",
    "    json.dump(dictionary, outfile)"
   ]
  },
  {
   "cell_type": "code",
   "execution_count": 152,
   "id": "e7f2a439",
   "metadata": {},
   "outputs": [],
   "source": [
    "if not (data.get(r)):\n",
    "    print(\"YES\")"
   ]
  },
  {
   "cell_type": "code",
   "execution_count": 139,
   "id": "526eef02",
   "metadata": {},
   "outputs": [
    {
     "ename": "TypeError",
     "evalue": "object of type 'NoneType' has no len()",
     "output_type": "error",
     "traceback": [
      "\u001b[1;31m---------------------------------------------------------------------------\u001b[0m",
      "\u001b[1;31mTypeError\u001b[0m                                 Traceback (most recent call last)",
      "\u001b[1;32m<ipython-input-139-07204f8a5271>\u001b[0m in \u001b[0;36m<module>\u001b[1;34m\u001b[0m\n\u001b[0;32m      2\u001b[0m     \u001b[0mdata\u001b[0m \u001b[1;33m=\u001b[0m \u001b[0mjson\u001b[0m\u001b[1;33m.\u001b[0m\u001b[0mload\u001b[0m\u001b[1;33m(\u001b[0m\u001b[0mjsonFile\u001b[0m\u001b[1;33m)\u001b[0m\u001b[1;33m\u001b[0m\u001b[1;33m\u001b[0m\u001b[0m\n\u001b[0;32m      3\u001b[0m \u001b[1;33m\u001b[0m\u001b[0m\n\u001b[1;32m----> 4\u001b[1;33m \u001b[1;32mif\u001b[0m \u001b[0mlen\u001b[0m\u001b[1;33m(\u001b[0m\u001b[0mdata\u001b[0m\u001b[1;33m.\u001b[0m\u001b[0mget\u001b[0m\u001b[1;33m(\u001b[0m\u001b[1;34m\"2662626\"\u001b[0m\u001b[1;33m)\u001b[0m\u001b[1;33m)\u001b[0m\u001b[1;33m>\u001b[0m\u001b[1;36m0\u001b[0m\u001b[1;33m:\u001b[0m\u001b[1;33m\u001b[0m\u001b[1;33m\u001b[0m\u001b[0m\n\u001b[0m\u001b[0;32m      5\u001b[0m     \u001b[0mprint\u001b[0m\u001b[1;33m(\u001b[0m\u001b[1;34m\"YES\"\u001b[0m\u001b[1;33m)\u001b[0m\u001b[1;33m\u001b[0m\u001b[1;33m\u001b[0m\u001b[0m\n",
      "\u001b[1;31mTypeError\u001b[0m: object of type 'NoneType' has no len()"
     ]
    }
   ],
   "source": [
    "with open(\"sample.json\", \"r\") as jsonFile:\n",
    "    data = json.load(jsonFile)\n",
    "\n",
    "if len(data.get(\"2662626\"))>0:\n",
    "    print(\"YES\")\n"
   ]
  },
  {
   "cell_type": "code",
   "execution_count": 13,
   "id": "94157f8b",
   "metadata": {},
   "outputs": [],
   "source": [
    "r=\"25222111\""
   ]
  },
  {
   "cell_type": "code",
   "execution_count": 4,
   "id": "0a0d861c",
   "metadata": {},
   "outputs": [
    {
     "ename": "FileNotFoundError",
     "evalue": "[Errno 2] No such file or directory: 'sample.txt'",
     "output_type": "error",
     "traceback": [
      "\u001b[1;31m---------------------------------------------------------------------------\u001b[0m",
      "\u001b[1;31mFileNotFoundError\u001b[0m                         Traceback (most recent call last)",
      "\u001b[1;32m<ipython-input-4-911f1c54a1bc>\u001b[0m in \u001b[0;36m<module>\u001b[1;34m\u001b[0m\n\u001b[1;32m----> 1\u001b[1;33m \u001b[0mjsonFile\u001b[0m \u001b[1;33m=\u001b[0m \u001b[0mopen\u001b[0m\u001b[1;33m(\u001b[0m\u001b[1;34m\"sample.txt\"\u001b[0m\u001b[1;33m,\u001b[0m \u001b[1;34m\"r\"\u001b[0m\u001b[1;33m)\u001b[0m\u001b[1;33m\u001b[0m\u001b[1;33m\u001b[0m\u001b[0m\n\u001b[0m\u001b[0;32m      2\u001b[0m \u001b[0mdata\u001b[0m \u001b[1;33m=\u001b[0m \u001b[0mjson\u001b[0m\u001b[1;33m.\u001b[0m\u001b[0mload\u001b[0m\u001b[1;33m(\u001b[0m\u001b[0mjsonFile\u001b[0m\u001b[1;33m)\u001b[0m\u001b[1;33m\u001b[0m\u001b[1;33m\u001b[0m\u001b[0m\n\u001b[0;32m      3\u001b[0m \u001b[1;33m\u001b[0m\u001b[0m\n\u001b[0;32m      4\u001b[0m \u001b[1;32mif\u001b[0m \u001b[1;33m(\u001b[0m\u001b[0mdata\u001b[0m\u001b[1;33m.\u001b[0m\u001b[0mget\u001b[0m\u001b[1;33m(\u001b[0m\u001b[0mr\u001b[0m\u001b[1;33m)\u001b[0m\u001b[1;33m)\u001b[0m\u001b[1;33m:\u001b[0m\u001b[1;33m\u001b[0m\u001b[1;33m\u001b[0m\u001b[0m\n\u001b[0;32m      5\u001b[0m     \u001b[0mprint\u001b[0m\u001b[1;33m(\u001b[0m\u001b[1;34m\"Existing\"\u001b[0m\u001b[1;33m)\u001b[0m\u001b[1;33m\u001b[0m\u001b[1;33m\u001b[0m\u001b[0m\n",
      "\u001b[1;31mFileNotFoundError\u001b[0m: [Errno 2] No such file or directory: 'sample.txt'"
     ]
    }
   ],
   "source": [
    "jsonFile = open(\"sample.txt\", \"r\")\n",
    "data = json.load(jsonFile)\n",
    "\n",
    "if (data.get(r)):\n",
    "    print(\"Existing\")\n",
    "else:\n",
    "    data.update({ r : r })\n",
    "    print(\"Updating\")\n",
    "    with open(\"sample.json\", \"w\") as jsonFile:\n",
    "        json.dump(data, jsonFile)\n",
    "        jsonFile.close()"
   ]
  },
  {
   "cell_type": "code",
   "execution_count": 9,
   "id": "d85f1be4",
   "metadata": {},
   "outputs": [],
   "source": [
    "if os.path.exists(\"sample.json\"):\n",
    "    print(\"yes\")"
   ]
  },
  {
   "cell_type": "code",
   "execution_count": 1,
   "id": "3a8adfc8",
   "metadata": {},
   "outputs": [],
   "source": [
    "import json\n",
    "import os\n",
    "p = \"63256922\"\n",
    "r = \"63206922\""
   ]
  },
  {
   "cell_type": "code",
   "execution_count": 4,
   "id": "5341eccc",
   "metadata": {},
   "outputs": [
    {
     "name": "stdout",
     "output_type": "stream",
     "text": [
      "Existing\n"
     ]
    }
   ],
   "source": [
    "if os.path.exists(\"sample.json\"):\n",
    "    \n",
    "    with open(\"sample.json\", \"r\") as jsonFile:\n",
    "        data = json.load(jsonFile)\n",
    "\n",
    "    if (data.get(r)):\n",
    "        print(\"Existing\")\n",
    "    else:\n",
    "        data.update({r:r})\n",
    "        print(\"Updating\")\n",
    "        with open(\"sample.json\", \"w\") as jsonFile:\n",
    "            json.dump(data, jsonFile)\n",
    "            jsonFile.close()\n",
    "            \n",
    "else:\n",
    "    print(\"Update One\")\n",
    "    with open(\"sample.json\", \"w\") as jsonFile:\n",
    "        json.dump({p:p}, jsonFile)\n",
    "        jsonFile.close()"
   ]
  },
  {
   "cell_type": "code",
   "execution_count": 6,
   "id": "aa99297b",
   "metadata": {},
   "outputs": [],
   "source": [
    "r = \"125\""
   ]
  },
  {
   "cell_type": "code",
   "execution_count": 7,
   "id": "4f5176c3",
   "metadata": {},
   "outputs": [
    {
     "name": "stdout",
     "output_type": "stream",
     "text": [
      "Updating\n"
     ]
    }
   ],
   "source": [
    "if os.path.exists(\"sample.json\"):\n",
    "    \n",
    "    with open(\"sample.json\", \"r\") as jsonFile:\n",
    "        data = json.load(jsonFile)\n",
    "\n",
    "    if not (data.get(r)):\n",
    "        data.update({r:r})\n",
    "        print(\"Updating\")\n",
    "        with open(\"sample.json\", \"w\") as jsonFile:\n",
    "            json.dump(data, jsonFile)\n",
    "            jsonFile.close()\n",
    "            \n",
    "else:\n",
    "    print(\"Update One\")\n",
    "    with open(\"sample.json\", \"w\") as jsonFile:\n",
    "        json.dump({p:p}, jsonFile)\n",
    "        jsonFile.close()"
   ]
  },
  {
   "cell_type": "code",
   "execution_count": null,
   "id": "baba753f",
   "metadata": {},
   "outputs": [],
   "source": []
  },
  {
   "cell_type": "code",
   "execution_count": null,
   "id": "8b7c6d0a",
   "metadata": {},
   "outputs": [],
   "source": []
  },
  {
   "cell_type": "code",
   "execution_count": null,
   "id": "607c5f6c",
   "metadata": {},
   "outputs": [],
   "source": []
  },
  {
   "cell_type": "code",
   "execution_count": 120,
   "id": "243d8624",
   "metadata": {},
   "outputs": [],
   "source": [
    "with open('test.txt', 'r') as f:\n",
    "    f.readlines()"
   ]
  },
  {
   "cell_type": "code",
   "execution_count": 117,
   "id": "48be59ce",
   "metadata": {},
   "outputs": [],
   "source": [
    "with open('test.txt', 'w') as f:\n",
    "    if len(f.readlines())!=0:\n",
    "        f.write(json.dumps(p))"
   ]
  },
  {
   "cell_type": "code",
   "execution_count": 115,
   "id": "ad0e03e3",
   "metadata": {},
   "outputs": [
    {
     "name": "stdout",
     "output_type": "stream",
     "text": [
      "Multiple\n"
     ]
    },
    {
     "ename": "JSONDecodeError",
     "evalue": "Expecting value: line 1 column 1 (char 0)",
     "output_type": "error",
     "traceback": [
      "\u001b[1;31m---------------------------------------------------------------------------\u001b[0m",
      "\u001b[1;31mJSONDecodeError\u001b[0m                           Traceback (most recent call last)",
      "\u001b[1;32m<ipython-input-115-4cf9db0a9e5a>\u001b[0m in \u001b[0;36m<module>\u001b[1;34m\u001b[0m\n\u001b[0;32m      2\u001b[0m \u001b[1;32mif\u001b[0m \u001b[0mlen\u001b[0m\u001b[1;33m(\u001b[0m\u001b[0ma_file\u001b[0m\u001b[1;33m.\u001b[0m\u001b[0mreadlines\u001b[0m\u001b[1;33m(\u001b[0m\u001b[1;33m)\u001b[0m\u001b[1;33m)\u001b[0m\u001b[1;33m!=\u001b[0m\u001b[1;36m0\u001b[0m\u001b[1;33m:\u001b[0m\u001b[1;33m\u001b[0m\u001b[1;33m\u001b[0m\u001b[0m\n\u001b[0;32m      3\u001b[0m     \u001b[0mprint\u001b[0m\u001b[1;33m(\u001b[0m\u001b[1;34m\"Multiple\"\u001b[0m\u001b[1;33m)\u001b[0m\u001b[1;33m\u001b[0m\u001b[1;33m\u001b[0m\u001b[0m\n\u001b[1;32m----> 4\u001b[1;33m     \u001b[0mjson_object\u001b[0m \u001b[1;33m=\u001b[0m \u001b[0mjson\u001b[0m\u001b[1;33m.\u001b[0m\u001b[0mload\u001b[0m\u001b[1;33m(\u001b[0m\u001b[0ma_file\u001b[0m\u001b[1;33m)\u001b[0m\u001b[1;33m\u001b[0m\u001b[1;33m\u001b[0m\u001b[0m\n\u001b[0m\u001b[0;32m      5\u001b[0m     \u001b[0ma_file\u001b[0m \u001b[1;33m=\u001b[0m \u001b[0mopen\u001b[0m\u001b[1;33m(\u001b[0m\u001b[1;34m\"sample.json\"\u001b[0m\u001b[1;33m,\u001b[0m \u001b[1;34m\"w\"\u001b[0m\u001b[1;33m)\u001b[0m\u001b[1;33m\u001b[0m\u001b[1;33m\u001b[0m\u001b[0m\n\u001b[0;32m      6\u001b[0m     \u001b[0mjson_object\u001b[0m \u001b[1;33m=\u001b[0m \u001b[0mjson_object\u001b[0m \u001b[1;33m+\u001b[0m \u001b[1;34m\",\"\u001b[0m \u001b[1;33m+\u001b[0m \u001b[1;33m(\u001b[0m\u001b[0mp\u001b[0m\u001b[1;33m)\u001b[0m\u001b[1;33m\u001b[0m\u001b[1;33m\u001b[0m\u001b[0m\n",
      "\u001b[1;32mD:\\Installation\\Anaconda\\lib\\json\\__init__.py\u001b[0m in \u001b[0;36mload\u001b[1;34m(fp, cls, object_hook, parse_float, parse_int, parse_constant, object_pairs_hook, **kw)\u001b[0m\n\u001b[0;32m    291\u001b[0m     \u001b[0mkwarg\u001b[0m\u001b[1;33m;\u001b[0m \u001b[0motherwise\u001b[0m\u001b[0;31m \u001b[0m\u001b[0;31m`\u001b[0m\u001b[0;31m`\u001b[0m\u001b[0mJSONDecoder\u001b[0m\u001b[0;31m`\u001b[0m\u001b[0;31m`\u001b[0m \u001b[1;32mis\u001b[0m \u001b[0mused\u001b[0m\u001b[1;33m.\u001b[0m\u001b[1;33m\u001b[0m\u001b[1;33m\u001b[0m\u001b[0m\n\u001b[0;32m    292\u001b[0m     \"\"\"\n\u001b[1;32m--> 293\u001b[1;33m     return loads(fp.read(),\n\u001b[0m\u001b[0;32m    294\u001b[0m         \u001b[0mcls\u001b[0m\u001b[1;33m=\u001b[0m\u001b[0mcls\u001b[0m\u001b[1;33m,\u001b[0m \u001b[0mobject_hook\u001b[0m\u001b[1;33m=\u001b[0m\u001b[0mobject_hook\u001b[0m\u001b[1;33m,\u001b[0m\u001b[1;33m\u001b[0m\u001b[1;33m\u001b[0m\u001b[0m\n\u001b[0;32m    295\u001b[0m         \u001b[0mparse_float\u001b[0m\u001b[1;33m=\u001b[0m\u001b[0mparse_float\u001b[0m\u001b[1;33m,\u001b[0m \u001b[0mparse_int\u001b[0m\u001b[1;33m=\u001b[0m\u001b[0mparse_int\u001b[0m\u001b[1;33m,\u001b[0m\u001b[1;33m\u001b[0m\u001b[1;33m\u001b[0m\u001b[0m\n",
      "\u001b[1;32mD:\\Installation\\Anaconda\\lib\\json\\__init__.py\u001b[0m in \u001b[0;36mloads\u001b[1;34m(s, cls, object_hook, parse_float, parse_int, parse_constant, object_pairs_hook, **kw)\u001b[0m\n\u001b[0;32m    355\u001b[0m             \u001b[0mparse_int\u001b[0m \u001b[1;32mis\u001b[0m \u001b[1;32mNone\u001b[0m \u001b[1;32mand\u001b[0m \u001b[0mparse_float\u001b[0m \u001b[1;32mis\u001b[0m \u001b[1;32mNone\u001b[0m \u001b[1;32mand\u001b[0m\u001b[1;33m\u001b[0m\u001b[1;33m\u001b[0m\u001b[0m\n\u001b[0;32m    356\u001b[0m             parse_constant is None and object_pairs_hook is None and not kw):\n\u001b[1;32m--> 357\u001b[1;33m         \u001b[1;32mreturn\u001b[0m \u001b[0m_default_decoder\u001b[0m\u001b[1;33m.\u001b[0m\u001b[0mdecode\u001b[0m\u001b[1;33m(\u001b[0m\u001b[0ms\u001b[0m\u001b[1;33m)\u001b[0m\u001b[1;33m\u001b[0m\u001b[1;33m\u001b[0m\u001b[0m\n\u001b[0m\u001b[0;32m    358\u001b[0m     \u001b[1;32mif\u001b[0m \u001b[0mcls\u001b[0m \u001b[1;32mis\u001b[0m \u001b[1;32mNone\u001b[0m\u001b[1;33m:\u001b[0m\u001b[1;33m\u001b[0m\u001b[1;33m\u001b[0m\u001b[0m\n\u001b[0;32m    359\u001b[0m         \u001b[0mcls\u001b[0m \u001b[1;33m=\u001b[0m \u001b[0mJSONDecoder\u001b[0m\u001b[1;33m\u001b[0m\u001b[1;33m\u001b[0m\u001b[0m\n",
      "\u001b[1;32mD:\\Installation\\Anaconda\\lib\\json\\decoder.py\u001b[0m in \u001b[0;36mdecode\u001b[1;34m(self, s, _w)\u001b[0m\n\u001b[0;32m    335\u001b[0m \u001b[1;33m\u001b[0m\u001b[0m\n\u001b[0;32m    336\u001b[0m         \"\"\"\n\u001b[1;32m--> 337\u001b[1;33m         \u001b[0mobj\u001b[0m\u001b[1;33m,\u001b[0m \u001b[0mend\u001b[0m \u001b[1;33m=\u001b[0m \u001b[0mself\u001b[0m\u001b[1;33m.\u001b[0m\u001b[0mraw_decode\u001b[0m\u001b[1;33m(\u001b[0m\u001b[0ms\u001b[0m\u001b[1;33m,\u001b[0m \u001b[0midx\u001b[0m\u001b[1;33m=\u001b[0m\u001b[0m_w\u001b[0m\u001b[1;33m(\u001b[0m\u001b[0ms\u001b[0m\u001b[1;33m,\u001b[0m \u001b[1;36m0\u001b[0m\u001b[1;33m)\u001b[0m\u001b[1;33m.\u001b[0m\u001b[0mend\u001b[0m\u001b[1;33m(\u001b[0m\u001b[1;33m)\u001b[0m\u001b[1;33m)\u001b[0m\u001b[1;33m\u001b[0m\u001b[1;33m\u001b[0m\u001b[0m\n\u001b[0m\u001b[0;32m    338\u001b[0m         \u001b[0mend\u001b[0m \u001b[1;33m=\u001b[0m \u001b[0m_w\u001b[0m\u001b[1;33m(\u001b[0m\u001b[0ms\u001b[0m\u001b[1;33m,\u001b[0m \u001b[0mend\u001b[0m\u001b[1;33m)\u001b[0m\u001b[1;33m.\u001b[0m\u001b[0mend\u001b[0m\u001b[1;33m(\u001b[0m\u001b[1;33m)\u001b[0m\u001b[1;33m\u001b[0m\u001b[1;33m\u001b[0m\u001b[0m\n\u001b[0;32m    339\u001b[0m         \u001b[1;32mif\u001b[0m \u001b[0mend\u001b[0m \u001b[1;33m!=\u001b[0m \u001b[0mlen\u001b[0m\u001b[1;33m(\u001b[0m\u001b[0ms\u001b[0m\u001b[1;33m)\u001b[0m\u001b[1;33m:\u001b[0m\u001b[1;33m\u001b[0m\u001b[1;33m\u001b[0m\u001b[0m\n",
      "\u001b[1;32mD:\\Installation\\Anaconda\\lib\\json\\decoder.py\u001b[0m in \u001b[0;36mraw_decode\u001b[1;34m(self, s, idx)\u001b[0m\n\u001b[0;32m    353\u001b[0m             \u001b[0mobj\u001b[0m\u001b[1;33m,\u001b[0m \u001b[0mend\u001b[0m \u001b[1;33m=\u001b[0m \u001b[0mself\u001b[0m\u001b[1;33m.\u001b[0m\u001b[0mscan_once\u001b[0m\u001b[1;33m(\u001b[0m\u001b[0ms\u001b[0m\u001b[1;33m,\u001b[0m \u001b[0midx\u001b[0m\u001b[1;33m)\u001b[0m\u001b[1;33m\u001b[0m\u001b[1;33m\u001b[0m\u001b[0m\n\u001b[0;32m    354\u001b[0m         \u001b[1;32mexcept\u001b[0m \u001b[0mStopIteration\u001b[0m \u001b[1;32mas\u001b[0m \u001b[0merr\u001b[0m\u001b[1;33m:\u001b[0m\u001b[1;33m\u001b[0m\u001b[1;33m\u001b[0m\u001b[0m\n\u001b[1;32m--> 355\u001b[1;33m             \u001b[1;32mraise\u001b[0m \u001b[0mJSONDecodeError\u001b[0m\u001b[1;33m(\u001b[0m\u001b[1;34m\"Expecting value\"\u001b[0m\u001b[1;33m,\u001b[0m \u001b[0ms\u001b[0m\u001b[1;33m,\u001b[0m \u001b[0merr\u001b[0m\u001b[1;33m.\u001b[0m\u001b[0mvalue\u001b[0m\u001b[1;33m)\u001b[0m \u001b[1;32mfrom\u001b[0m \u001b[1;32mNone\u001b[0m\u001b[1;33m\u001b[0m\u001b[1;33m\u001b[0m\u001b[0m\n\u001b[0m\u001b[0;32m    356\u001b[0m         \u001b[1;32mreturn\u001b[0m \u001b[0mobj\u001b[0m\u001b[1;33m,\u001b[0m \u001b[0mend\u001b[0m\u001b[1;33m\u001b[0m\u001b[1;33m\u001b[0m\u001b[0m\n",
      "\u001b[1;31mJSONDecodeError\u001b[0m: Expecting value: line 1 column 1 (char 0)"
     ]
    }
   ],
   "source": [
    "a_file = open(\"sample.json\", \"r\")\n",
    "if len(a_file.readlines())!=0:\n",
    "    print(\"Multiple\")\n",
    "    json_object = json.load(a_file)\n",
    "    a_file = open(\"sample.json\", \"w\")\n",
    "    json_object = json_object + \",\" + (p)\n",
    "    json.dump(json_object, a_file)\n",
    "else:\n",
    "    print(\"One\")\n",
    "    a_file = open(\"sample.json\", \"w\")\n",
    "    json.dump(p, a_file)\n",
    "\n",
    "a_file.close()"
   ]
  },
  {
   "cell_type": "code",
   "execution_count": null,
   "id": "15cebd25",
   "metadata": {},
   "outputs": [],
   "source": []
  },
  {
   "cell_type": "code",
   "execution_count": 47,
   "id": "971f1f1c",
   "metadata": {},
   "outputs": [
    {
     "ename": "AttributeError",
     "evalue": "'str' object has no attribute 'append'",
     "output_type": "error",
     "traceback": [
      "\u001b[1;31m---------------------------------------------------------------------------\u001b[0m",
      "\u001b[1;31mAttributeError\u001b[0m                            Traceback (most recent call last)",
      "\u001b[1;32m<ipython-input-47-53a9a668d341>\u001b[0m in \u001b[0;36m<module>\u001b[1;34m\u001b[0m\n\u001b[0;32m      1\u001b[0m \u001b[0ma_file\u001b[0m \u001b[1;33m=\u001b[0m \u001b[0mopen\u001b[0m\u001b[1;33m(\u001b[0m\u001b[1;34m\"sample.json\"\u001b[0m\u001b[1;33m,\u001b[0m \u001b[1;34m\"w\"\u001b[0m\u001b[1;33m)\u001b[0m\u001b[1;33m\u001b[0m\u001b[1;33m\u001b[0m\u001b[0m\n\u001b[0;32m      2\u001b[0m \u001b[1;31m# json_object = json.load(a_file)\u001b[0m\u001b[1;33m\u001b[0m\u001b[1;33m\u001b[0m\u001b[1;33m\u001b[0m\u001b[0m\n\u001b[1;32m----> 3\u001b[1;33m \u001b[0mp\u001b[0m\u001b[1;33m.\u001b[0m\u001b[0mappend\u001b[0m\u001b[1;33m(\u001b[0m\u001b[1;34m\"63256922\"\u001b[0m\u001b[1;33m)\u001b[0m\u001b[1;33m\u001b[0m\u001b[1;33m\u001b[0m\u001b[0m\n\u001b[0m\u001b[0;32m      4\u001b[0m \u001b[0mjson\u001b[0m\u001b[1;33m.\u001b[0m\u001b[0mdump\u001b[0m\u001b[1;33m(\u001b[0m\u001b[0mp\u001b[0m\u001b[1;33m,\u001b[0m \u001b[0ma_file\u001b[0m\u001b[1;33m)\u001b[0m\u001b[1;33m\u001b[0m\u001b[1;33m\u001b[0m\u001b[0m\n\u001b[0;32m      5\u001b[0m \u001b[0ma_file\u001b[0m\u001b[1;33m.\u001b[0m\u001b[0mclose\u001b[0m\u001b[1;33m(\u001b[0m\u001b[1;33m)\u001b[0m\u001b[1;33m\u001b[0m\u001b[1;33m\u001b[0m\u001b[0m\n",
      "\u001b[1;31mAttributeError\u001b[0m: 'str' object has no attribute 'append'"
     ]
    }
   ],
   "source": [
    "a_file = open(\"sample.json\", \"w\")\n",
    "# json_object = json.load(a_file)\n",
    "p.append(\"63256922\")\n",
    "json.dump(p, a_file)\n",
    "a_file.close()"
   ]
  },
  {
   "cell_type": "code",
   "execution_count": 46,
   "id": "0da843e1",
   "metadata": {},
   "outputs": [
    {
     "data": {
      "text/plain": [
       "'63256922'"
      ]
     },
     "execution_count": 46,
     "metadata": {},
     "output_type": "execute_result"
    }
   ],
   "source": [
    "a_file = open(\"sample.json\", \"r\")\n",
    "json_object = json.load(a_file)\n",
    "json_object"
   ]
  },
  {
   "cell_type": "code",
   "execution_count": null,
   "id": "6347221c",
   "metadata": {},
   "outputs": [],
   "source": []
  },
  {
   "cell_type": "code",
   "execution_count": null,
   "id": "3213f1b6",
   "metadata": {},
   "outputs": [],
   "source": []
  },
  {
   "cell_type": "code",
   "execution_count": null,
   "id": "0b4c2a37",
   "metadata": {},
   "outputs": [],
   "source": []
  },
  {
   "cell_type": "code",
   "execution_count": 25,
   "id": "e5f90edf",
   "metadata": {},
   "outputs": [],
   "source": [
    "pcklepath = \"C:/Users/singh/Desktop/Prof_Files/test\"\n",
    "if os.path.isdir(pcklepath) ==False:  os.mkdir(pcklepath)"
   ]
  },
  {
   "cell_type": "code",
   "execution_count": 24,
   "id": "13b70b85",
   "metadata": {},
   "outputs": [
    {
     "data": {
      "text/plain": [
       "'C:/Users/singh/Desktop/Prof_Files\\\\0255222'"
      ]
     },
     "execution_count": 24,
     "metadata": {},
     "output_type": "execute_result"
    }
   ],
   "source": [
    "out_files"
   ]
  },
  {
   "cell_type": "code",
   "execution_count": 13,
   "id": "5d1ce412",
   "metadata": {},
   "outputs": [],
   "source": [
    "    args = sys.argv\n",
    "    argdict = {}\n",
    "    N = len(args)\n",
    "    for ii, arg in enumerate(args):\n",
    "        if arg[:2] == '--' and ii+1 < N:\n",
    "            value = args[ii+1]\n",
    "            if value.isnumeric():\n",
    "                value = int(value)\n",
    "            elif value.lower() == 'none':\n",
    "                value = None\n",
    "            argdict[arg[2:]] = value"
   ]
  },
  {
   "cell_type": "code",
   "execution_count": 18,
   "id": "a9ef2053",
   "metadata": {},
   "outputs": [
    {
     "data": {
      "text/plain": [
       "{}"
      ]
     },
     "execution_count": 18,
     "metadata": {},
     "output_type": "execute_result"
    }
   ],
   "source": [
    "argdict"
   ]
  },
  {
   "cell_type": "code",
   "execution_count": 4,
   "id": "b78fe0a4",
   "metadata": {},
   "outputs": [],
   "source": [
    "import logging\n",
    "import datetime"
   ]
  },
  {
   "cell_type": "code",
   "execution_count": 9,
   "id": "df458b2b",
   "metadata": {},
   "outputs": [],
   "source": [
    "    logger = logging.getLogger(__name__)  \n",
    "    \n",
    "    # set log level\n",
    "    logger.setLevel(logging.INFO)\n",
    "\n",
    "    # define file handler and set formatter\n",
    "    #file_handler = logging.FileHandler('logfile.log')\n",
    "    file_handler = logging.FileHandler('logfile'+ str(datetime.datetime.now()).replace(\":\",\"_\")+ '.log')"
   ]
  },
  {
   "cell_type": "code",
   "execution_count": 11,
   "id": "b8cc5e32",
   "metadata": {},
   "outputs": [
    {
     "data": {
      "text/plain": [
       "'C:\\\\Users\\\\singh'"
      ]
     },
     "execution_count": 11,
     "metadata": {},
     "output_type": "execute_result"
    }
   ],
   "source": [
    "import os\n",
    "os.getcwd()"
   ]
  },
  {
   "cell_type": "code",
   "execution_count": null,
   "id": "21d8b617",
   "metadata": {},
   "outputs": [],
   "source": []
  },
  {
   "cell_type": "code",
   "execution_count": null,
   "id": "d8eb3a3c",
   "metadata": {},
   "outputs": [],
   "source": [
    "#1 - 1\n",
    "#2 - 2\n",
    "#3 - 3\n",
    "#4 - 5\n",
    "#5 - 8"
   ]
  },
  {
   "cell_type": "code",
   "execution_count": 1,
   "id": "b44d89d5",
   "metadata": {},
   "outputs": [],
   "source": [
    "#Import Libraries\n",
    "import numpy as np\n",
    "import pandas as pd\n",
    "import os\n",
    "from sklearn.model_selection import PredefinedSplit\n",
    "import sklearn_crfsuite\n",
    "import eli5\n",
    "import scipy\n",
    "import re\n",
    "import matplotlib.pyplot as plt\n",
    "from sklearn.model_selection import learning_curve\n",
    "from sklearn.model_selection import RandomizedSearchCV\n",
    "from sklearn_crfsuite import metrics\n",
    "from sklearn.metrics import make_scorer\n",
    "from collections import Counter\n",
    "\n",
    "import warnings\n",
    "warnings.filterwarnings('ignore')"
   ]
  },
  {
   "cell_type": "code",
   "execution_count": 2,
   "id": "6a304ccb",
   "metadata": {},
   "outputs": [],
   "source": [
    "# Change Working Directory\n",
    "os.chdir('E:\\data\\Affinity_Solutions')"
   ]
  },
  {
   "cell_type": "code",
   "execution_count": 3,
   "id": "48f2aaf9",
   "metadata": {},
   "outputs": [],
   "source": [
    "# Read Input File\n",
    "data_input = pd.read_csv('Summer Internship - Homework Exercise.csv')"
   ]
  },
  {
   "cell_type": "code",
   "execution_count": 4,
   "id": "82da9cce",
   "metadata": {},
   "outputs": [],
   "source": [
    "# Function to obtain train, validation and test sets\n",
    "def split_train_test_val(split_type, data):\n",
    "    extract_data = data_input[data_input['dataset'].str.contains((split_type.lower()))]\n",
    "    extract_data.drop(['dataset'], axis = 1, inplace = True)\n",
    "    extract_data.reset_index(drop=True, inplace=True)\n",
    "    if extract_data.empty ==True:\n",
    "        print(\"Split Type does not exist.\")\n",
    "        return -1\n",
    "    else:\n",
    "        return extract_data"
   ]
  },
  {
   "cell_type": "code",
   "execution_count": 5,
   "id": "d992d501",
   "metadata": {},
   "outputs": [],
   "source": [
    "#Get Train Data\n",
    "split_type = 'Train'\n",
    "train_data = split_train_test_val(split_type,data_input)"
   ]
  },
  {
   "cell_type": "code",
   "execution_count": 6,
   "id": "2fd9bd52",
   "metadata": {},
   "outputs": [],
   "source": [
    "#Get Test Data\n",
    "split_type = 'test'\n",
    "test_data = split_train_test_val(split_type,data_input)"
   ]
  },
  {
   "cell_type": "code",
   "execution_count": 7,
   "id": "180301ce",
   "metadata": {},
   "outputs": [],
   "source": [
    "#Get Validation Data\n",
    "split_type = 'Val'\n",
    "val_data = split_train_test_val(split_type,data_input)"
   ]
  },
  {
   "cell_type": "code",
   "execution_count": 8,
   "id": "78b6bb08",
   "metadata": {},
   "outputs": [],
   "source": [
    "# Function to split the words by the digits in the sentence\n",
    "def split_digit(on):\n",
    "        oput  = re.findall('\\d+',on)\n",
    "        if len(oput)>0:\n",
    "            oi = on.split(oput[0])\n",
    "            return (oi, oput[0])\n",
    "        else:\n",
    "            return -1"
   ]
  },
  {
   "cell_type": "code",
   "execution_count": 9,
   "id": "45c5b774",
   "metadata": {},
   "outputs": [],
   "source": [
    "# Function to prepare data to get attributes by splitting with words, # and all digits in the sentence\n",
    "def prepare_data(o_data):\n",
    "    final = []\n",
    "    \n",
    "    for o in range( len(o_data)):\n",
    "        otry = o_data['transaction_descriptor'][o]\n",
    "        otest_0 = o_data['store_number'][o]\n",
    "\n",
    "        otemp = []\n",
    "        onew =  otry.split()\n",
    "        \n",
    "        for i in range(len(onew)):\n",
    "            otemp.append(onew[i])\n",
    "            \n",
    "        otemp.append('@')\n",
    "        otemp.append('@')\n",
    "        otemp.append('@')\n",
    "        \n",
    "        for i in range(len(onew)):\n",
    "            if onew[i].find('#')>-1:\n",
    "                on = onew[i].split('#')\n",
    "                \n",
    "                for h in range(len(on)):\n",
    "                    odigits = split_digit(on[h])\n",
    "        \n",
    "                    if (odigits)!=-1:\n",
    "                        if len(odigits[0][0]) > 0 : otemp.append(odigits[0][0])\n",
    "                        if len(odigits[1]) > 0 : otemp.append(odigits[1])\n",
    "                        if len(odigits[0][1]) > 0 : otemp.append(odigits[0][1])\n",
    "                    \n",
    "                    else:\n",
    "                        if len(on[h]) > 0: otemp.append(on[h])\n",
    "                        if h==0: otemp.append('#')\n",
    "            else: \n",
    "                \n",
    "                odigits = split_digit(onew[i])\n",
    "                if (odigits)!=-1:\n",
    "                    if len(odigits[0][0]) > 0 : otemp.append(odigits[0][0])\n",
    "                    if len(odigits[1]) > 0 : otemp.append(odigits[1])\n",
    "                    if len(odigits[0][1]) > 0 : otemp.append(odigits[0][1])\n",
    "                    \n",
    "                else:\n",
    "                    if len(onew[i]) > 0:  otemp.append(onew[i])\n",
    "        \n",
    "        o_temp = []\n",
    "        for j in range(len(otemp)):\n",
    "            if (otemp[j].isdigit() == True and otest_0.isdigit() == True):\n",
    "                if (int(otemp[j])==int(otest_0)):\n",
    "                    o_temp.append((int(otemp[j]),'SN'))  \n",
    "                else:\n",
    "                    o_temp.append((otemp[j],'NSN'))\n",
    "            elif((otemp[j])==(otest_0)):\n",
    "                o_temp.append(((otemp[j]),'SN')) \n",
    "            else:\n",
    "                o_temp.append((otemp[j],'NSN'))\n",
    "                \n",
    "        final.append(o_temp)\n",
    "        \n",
    "    return final"
   ]
  },
  {
   "cell_type": "code",
   "execution_count": 10,
   "id": "e488b80c",
   "metadata": {},
   "outputs": [],
   "source": [
    "# Prepare data with individual words for all sentences in train, validation and test data\n",
    "otrain = prepare_data(train_data)\n",
    "oval = prepare_data(val_data)\n",
    "otest = prepare_data(test_data)"
   ]
  },
  {
   "cell_type": "code",
   "execution_count": 11,
   "id": "17d392e1",
   "metadata": {},
   "outputs": [],
   "source": [
    "# Derive features for each word \n",
    "def oword2features(sent, i):\n",
    "\n",
    "# Current word being extracted\n",
    "    word = str(sent[i][0])\n",
    "\n",
    "# Features of the current word\n",
    "    features = {\n",
    "        'word.upper()': word.upper(),\n",
    "        'word[-4:]': word[-4:] if len(word)>3 else '-',\n",
    "        'word[:4]': word[:4] if len(word)>3 else '-',\n",
    "        'word[-3:]': word[-3:] if len(word)>2 else '-',\n",
    "        'word[:3]': word[:3] if len(word)>2 else '-',\n",
    "        'word[-2:]': word[-2:] if len(word)>1 else '-',\n",
    "        'word[:2]': word[:2] if len(word)>1 else '-',            \n",
    "        'word[-1:]': word[-1:],\n",
    "        'word[:1]': word[:1],\n",
    "        'word[#]':  word.find('#'),\n",
    "        'word.isdigit()': word.isdigit(),\n",
    "        'word.hasdigit()': any(char.isdigit() for char in word),\n",
    "        'word.hasalpha()': any(char.isalpha() for char in word),\n",
    "    }\n",
    "\n",
    "# Extracting features of the word one before the current word \n",
    "    if i > 0:\n",
    "        word1 = str(sent[i-1][0])\n",
    "        features.update({\n",
    "            '-1:word.upper()': word1.upper(),\n",
    "            '-1:word[-4:]': word1[-4:] if len(word1)>3 else '-',\n",
    "            '-1:word[:4]': word1[:4] if len(word1)>3 else '-',\n",
    "            '-1:word[-3:]': word1[-3:] if len(word1)>2 else '-',\n",
    "            '-1:word[:3]': word1[:3] if len(word1)>2 else '-',\n",
    "            '-1:word[-2:]': word1[-2:] if len(word1)>1 else '-',\n",
    "            '-1:word[:2]': word1[:2] if len(word1)>1 else '-',\n",
    "            '-1:word[-1:]': word1[-1:],\n",
    "            '-1:word[:1]': word1[:1],\n",
    "            '-1:word[#]': word1.find('#'),\n",
    "            '-1:word.isdigit()': word1.isdigit(),\n",
    "            '-1:word.hasdigit()': any(char.isdigit() for char in word1),\n",
    "            '-1:word.hasalpha()': any(char.isalpha() for char in word1),\n",
    "        })\n",
    "\n",
    "# Extracting features of the word two before the current word\n",
    "    if i > 1:\n",
    "        word2 = str(sent[i-2][0])\n",
    "        features.update({\n",
    "            '-2:word.lower()': word2.upper(),\n",
    "            '-2:word[-4:]': word2[-4:] if len(word2)>3 else '-',\n",
    "            '-2:word[:4]': word2[:4] if len(word2)>3 else '-',\n",
    "            '-2:word[-3:]': word2[-3:] if len(word2)>2 else '-',\n",
    "            '-2:word[:3]': word2[:3] if len(word2)>2 else '-',\n",
    "            '-2:word[-2:]': word2[-2:] if len(word2)>1 else '-',\n",
    "            '-2:word[:2]': word2[:2] if len(word2)>1 else '-',\n",
    "            '-2:word[-1:]': word2[-1:] ,\n",
    "            '-2:word[:1]': word2[:1] ,\n",
    "            '-2:word[#]': word2.find('#'), \n",
    "            '-2:word.isdigit()': word2.isdigit(),\n",
    "            '-2:word.hasdigit()': any(char.isdigit() for char in word2),\n",
    "            '-2:word.hasalpha()': any(char.isalpha() for char in word2),\n",
    "        })\n",
    "\n",
    "# Extracting features of the word three before the current word \n",
    "    if i > 2:\n",
    "        word3 = str(sent[i-3][0])\n",
    "        features.update({\n",
    "            '-3:word.upper()': word3.upper(),\n",
    "            '-3:word[-4:]': word3[-4:] if len(word3)>3 else '-',\n",
    "            '-3:word[:4]': word3[:4] if len(word3)>3 else '-',\n",
    "            '-3:word[-3:]': word3[-3:] if len(word3)>2 else '-',\n",
    "            '-3:word[:3]': word3[:3] if len(word3)>2 else '-',\n",
    "            '-3:word[-2:]': word3[-2:] if len(word3)>1 else '-',\n",
    "            '-3:word[:2]': word3[:2] if len(word3)>1 else '-',\n",
    "            '-3:word[-1:]': word3[-1:] ,\n",
    "            '-3:word[:1]': word3[:1] ,\n",
    "            '-3:word[#]': word3.find('#'), \n",
    "            '-3:word.isdigit()': word3.isdigit(),\n",
    "            '-3:word.hasdigit()': any(char.isdigit() for char in word3),\n",
    "            '-3:word.hasalpha()': any(char.isalpha() for char in word3),\n",
    "        })\n",
    "\n",
    "# Extracting features of the word one after the current word \n",
    "    if i < len(sent)-1: \n",
    "        word1 = str(sent[i+1][0])\n",
    "        features.update({\n",
    "            '+1:word.upper()': word1.upper(),\n",
    "            '+1:word[-3:]': word1[-3:] if len(word1)>2 else '0',\n",
    "            '+1:word[:2]': word1[:3] if len(word1)>2 else '0',\n",
    "            '+1:word[-2:]': word1[-2:] if len(word1)>1 else '0',\n",
    "            '+1:word[:2]': word1[:2] if len(word1)>1 else '0',\n",
    "            '+1:word[-1:]': word1[-1:],\n",
    "            '+1:word[:1]': word1[:1],\n",
    "            '+1:word.isdigit()': word.isdigit(),\n",
    "            '+1:word.hasdigit()': any(char.isdigit() for char in word1),\n",
    "            '+1:word.hasalpha()': any(char.isalpha() for char in word1),\n",
    "        })\n",
    "\n",
    "    return features    "
   ]
  },
  {
   "cell_type": "code",
   "execution_count": 12,
   "id": "8b10c7cc",
   "metadata": {},
   "outputs": [],
   "source": [
    "# Function to extract labels for the dependent variable(y)\n",
    "def osent2labels(sent):\n",
    "    return [label for token, label in sent]\n",
    "\n",
    "# Function to extract features of each word from a sentence consisting the store number\n",
    "def osent2features(sent):\n",
    "    return [oword2features(sent, i) for i in range(len(sent))]"
   ]
  },
  {
   "cell_type": "code",
   "execution_count": 13,
   "id": "d8e29557",
   "metadata": {},
   "outputs": [],
   "source": [
    "# Preparing data for feature extraction by splitting with words with spaces, '#' and digits combination\n",
    "otrain = prepare_data(train_data)\n",
    "oval = prepare_data(val_data)\n",
    "otest = prepare_data(test_data)"
   ]
  },
  {
   "cell_type": "code",
   "execution_count": 14,
   "id": "2e7ff9a2",
   "metadata": {},
   "outputs": [],
   "source": [
    "# Extract features and labels for dependent and independent variables\n",
    "X_train = [osent2features(s) for s in otrain]\n",
    "y_train = [osent2labels(s) for s in otrain]\n",
    "\n",
    "X_val= [osent2features(s) for s in oval]\n",
    "y_val = [osent2labels(s) for s in oval]\n",
    "\n",
    "X_test = [osent2features(s) for s in otest]\n",
    "y_test = [osent2labels(s) for s in otest]"
   ]
  },
  {
   "cell_type": "markdown",
   "id": "a1ba5d74",
   "metadata": {},
   "source": [
    "### Training"
   ]
  },
  {
   "cell_type": "code",
   "execution_count": 15,
   "id": "725b94e4",
   "metadata": {},
   "outputs": [
    {
     "data": {
      "text/plain": [
       "CRF(algorithm='lbfgs', all_possible_transitions=True, c1=0.2, c2=0.15,\n",
       "    keep_tempfiles=None, max_iterations=250)"
      ]
     },
     "execution_count": 15,
     "metadata": {},
     "output_type": "execute_result"
    }
   ],
   "source": [
    "# Conditional Random Fields (CRF) model and training\n",
    "crf = sklearn_crfsuite.CRF(\n",
    "    algorithm='lbfgs', \n",
    "    c1=0.2, \n",
    "    c2=0.15, \n",
    "    max_iterations=250, \n",
    "    all_possible_transitions=True)\n",
    "\n",
    "crf.fit(X_train, y_train)"
   ]
  },
  {
   "cell_type": "code",
   "execution_count": 16,
   "id": "9b42fa35",
   "metadata": {},
   "outputs": [],
   "source": [
    "# Defining possible labels from the dataset\n",
    "labels = ['SN', 'NSN']"
   ]
  },
  {
   "cell_type": "code",
   "execution_count": 17,
   "id": "f1fc7fc5",
   "metadata": {},
   "outputs": [
    {
     "name": "stdout",
     "output_type": "stream",
     "text": [
      "The F-1 Score obtained from the test data:  0.989\n"
     ]
    }
   ],
   "source": [
    "# Predicting store number for the test data and comparing F-1 Score\n",
    "y_pred = crf.predict(X_test)\n",
    "print(\"The F-1 Score obtained from the test data: \", round(metrics.flat_f1_score(y_test, y_pred, \n",
    "                      average='weighted', labels=labels), 3))"
   ]
  },
  {
   "cell_type": "code",
   "execution_count": 18,
   "id": "60cde9ef",
   "metadata": {},
   "outputs": [
    {
     "name": "stdout",
     "output_type": "stream",
     "text": [
      "\n",
      " The Classification Report obtained : \n",
      "               precision    recall  f1-score   support\n",
      "\n",
      "          SN      0.939     0.969     0.953       127\n",
      "         NSN      0.996     0.992     0.994       955\n",
      "\n",
      "    accuracy                          0.989      1082\n",
      "   macro avg      0.967     0.980     0.974      1082\n",
      "weighted avg      0.989     0.989     0.989      1082\n",
      "\n",
      "              precision    recall  f1-score   support\n",
      "\n",
      "          SN      0.939     0.969     0.953       127\n",
      "         NSN      0.996     0.992     0.994       955\n",
      "\n",
      "    accuracy                          0.989      1082\n",
      "   macro avg      0.967     0.980     0.974      1082\n",
      "weighted avg      0.989     0.989     0.989      1082\n",
      "\n"
     ]
    }
   ],
   "source": [
    "#Sorting the labels and printing classification report\n",
    "sorted_labels = sorted(labels, key=lambda name: (name[1:], name[0]))\n",
    "\n",
    "\n",
    "print(\"\\n The Classification Report obtained : \\n\", metrics.flat_classification_report(\n",
    "    y_test, y_pred, labels=sorted_labels, digits=3))\n",
    "\n",
    "print(metrics.flat_classification_report(y_test, y_pred, labels=sorted_labels, digits=3))"
   ]
  },
  {
   "cell_type": "markdown",
   "id": "b3669093",
   "metadata": {},
   "source": [
    "### Randomized Search CV"
   ]
  },
  {
   "cell_type": "code",
   "execution_count": 19,
   "id": "a30a4720",
   "metadata": {},
   "outputs": [
    {
     "name": "stdout",
     "output_type": "stream",
     "text": [
      "Fitting 1 folds for each of 500 candidates, totalling 500 fits\n"
     ]
    },
    {
     "name": "stderr",
     "output_type": "stream",
     "text": [
      "[Parallel(n_jobs=-1)]: Using backend LokyBackend with 16 concurrent workers.\n",
      "[Parallel(n_jobs=-1)]: Done  18 tasks      | elapsed:    3.4s\n",
      "[Parallel(n_jobs=-1)]: Done 168 tasks      | elapsed:    8.4s\n",
      "[Parallel(n_jobs=-1)]: Done 418 tasks      | elapsed:   16.7s\n",
      "[Parallel(n_jobs=-1)]: Done 500 out of 500 | elapsed:   19.5s finished\n"
     ]
    },
    {
     "name": "stdout",
     "output_type": "stream",
     "text": [
      "Wall time: 20.1 s\n"
     ]
    },
    {
     "data": {
      "text/plain": [
       "RandomizedSearchCV(cv=PredefinedSplit(test_fold=array([-1, -1, ...,  0,  0])),\n",
       "                   estimator=CRF(algorithm='lbfgs',\n",
       "                                 all_possible_transitions=True,\n",
       "                                 keep_tempfiles=None, max_iterations=800),\n",
       "                   n_iter=500, n_jobs=-1,\n",
       "                   param_distributions={'c1': <scipy.stats._distn_infrastructure.rv_frozen object at 0x000001B8C93E2F70>,\n",
       "                                        'c2': <scipy.stats._distn_infrastructure.rv_frozen object at 0x000001B8C93D42B0>},\n",
       "                   scoring=make_scorer(flat_f1_score, average=weighted, labels=['SN', 'NSN']),\n",
       "                   verbose=1)"
      ]
     },
     "execution_count": 19,
     "metadata": {},
     "output_type": "execute_result"
    }
   ],
   "source": [
    "%%time\n",
    "# Defining Parameters for search \n",
    "crf = sklearn_crfsuite.CRF(\n",
    "    algorithm='lbfgs', \n",
    "    max_iterations=800, \n",
    "    all_possible_transitions=True)\n",
    "\n",
    "params_space = {\n",
    "    'c1': scipy.stats.expon(scale=0.2),\n",
    "    'c2': scipy.stats.expon(scale=0.3),\n",
    "}\n",
    "\n",
    "# Using F-1 metric\n",
    "f1_scorer = make_scorer(metrics.flat_f1_score, \n",
    "                        average='weighted', labels=labels)\n",
    "\n",
    "# Generating Split index for Train and Validation data\n",
    "split_index = [-1]*len(X_train) + [0]*len(X_val)\n",
    "\n",
    "# Combining Train and Validation data with the pre-defined split as above\n",
    "X = np.concatenate((X_train, X_val), axis=0)\n",
    "y = np.concatenate((y_train, y_val), axis=0)\n",
    "pds = PredefinedSplit(test_fold = split_index)\n",
    "\n",
    "# Loading the model for training\n",
    "rs = RandomizedSearchCV(crf, params_space, \n",
    "                        cv=pds, \n",
    "                        verbose=1, \n",
    "                        n_jobs=-1, \n",
    "                        n_iter=500, \n",
    "                        scoring=f1_scorer)\n",
    "# Training the model \n",
    "rs.fit(X, y)"
   ]
  },
  {
   "cell_type": "code",
   "execution_count": 20,
   "id": "6453cd05",
   "metadata": {},
   "outputs": [
    {
     "name": "stdout",
     "output_type": "stream",
     "text": [
      "best params: {'c1': 0.030370717954232088, 'c2': 0.07704766779555547}\n",
      "best CV score: 0.9845533282086765\n",
      "model size: 0.09M\n"
     ]
    }
   ],
   "source": [
    "# Prinnting Best Parameters from the randomized search with Best Score and Model Size\n",
    "print('best params:', rs.best_params_)\n",
    "print('best CV score:', rs.best_score_)\n",
    "print('model size: {:0.2f}M'.format(rs.best_estimator_.size_ / 1000000))"
   ]
  },
  {
   "cell_type": "code",
   "execution_count": 21,
   "id": "b80170ca",
   "metadata": {},
   "outputs": [
    {
     "name": "stdout",
     "output_type": "stream",
     "text": [
      "Dark Blue => 0.9752, Dark Red => 0.9846\n"
     ]
    },
    {
     "data": {
      "image/png": "[encoded data removed]",
      "text/plain": [
       "<Figure size 864x864 with 1 Axes>"
      ]
     },
     "metadata": {
      "needs_background": "light"
     },
     "output_type": "display_data"
    }
   ],
   "source": [
    "# Extracting and Plotting different c1 and c2 data with the mean test score\n",
    "_x = rs.cv_results_['param_c1'].data\n",
    "_y = rs.cv_results_['param_c2'].data\n",
    "_c = rs.cv_results_['mean_test_score']\n",
    "\n",
    "fig = plt.figure()\n",
    "fig.set_size_inches(12, 12)\n",
    "ax = plt.gca()\n",
    "ax.set_yscale('log')\n",
    "ax.set_xscale('log')\n",
    "ax.set_xlabel('c1')\n",
    "ax.set_ylabel('c2')\n",
    "ax.set_title(\"Randomized Hyperparameter Search CV Results (min={:0.3}, max={:0.3})\".format(min(_c), max(_c)))\n",
    "\n",
    "ax.scatter(_x, _y, c=_c, s=75, alpha=0.85, edgecolors=[0,0,0])\n",
    "\n",
    "print(\"Dark Blue => {:0.4}, Dark Red => {:0.4}\".format(min(_c), max(_c)))"
   ]
  },
  {
   "cell_type": "code",
   "execution_count": 22,
   "id": "78f1a139",
   "metadata": {},
   "outputs": [
    {
     "name": "stdout",
     "output_type": "stream",
     "text": [
      "The F-1 Score obtained from the test data = 0.991\n",
      "\n",
      " The Classification Report obtained : \n",
      "               precision    recall  f1-score   support\n",
      "\n",
      "          SN      0.953     0.969     0.961       127\n",
      "         NSN      0.996     0.994     0.995       955\n",
      "\n",
      "    accuracy                          0.991      1082\n",
      "   macro avg      0.975     0.981     0.978      1082\n",
      "weighted avg      0.991     0.991     0.991      1082\n",
      "\n"
     ]
    }
   ],
   "source": [
    "# Assigning Best Estimator \n",
    "crf = rs.best_estimator_\n",
    "\n",
    "y_pred = crf.predict(X_test)\n",
    "\n",
    "print(\"The F-1 Score obtained from the test data = {:0.3}\" .format(metrics.flat_f1_score(y_test, y_pred, \n",
    "                      average='weighted', labels=labels)))\n",
    "\n",
    "print(\"\\n The Classification Report obtained : \\n\", metrics.flat_classification_report(\n",
    "    y_test, y_pred, labels=sorted_labels, digits=3))"
   ]
  },
  {
   "cell_type": "code",
   "execution_count": 23,
   "id": "cf9e7756",
   "metadata": {},
   "outputs": [],
   "source": [
    "# Function to print the transaction\n",
    "def print_transitions(trans_features):\n",
    "    for (label_from, label_to), weight in trans_features:\n",
    "        print(\"%-6s -> %-7s %0.3f\" % (label_from, label_to, weight))"
   ]
  },
  {
   "cell_type": "code",
   "execution_count": 24,
   "id": "c8be474c",
   "metadata": {},
   "outputs": [
    {
     "name": "stdout",
     "output_type": "stream",
     "text": [
      "Top likely transitions:\n",
      "NSN    -> NSN     1.235\n",
      "NSN    -> SN      0.993\n",
      "SN     -> NSN     -0.390\n",
      "SN     -> SN      -1.732\n"
     ]
    }
   ],
   "source": [
    "# Print top 4 transition features\n",
    "print(\"Top likely transitions:\")\n",
    "print_transitions(Counter(crf.transition_features_).most_common(4))"
   ]
  },
  {
   "cell_type": "code",
   "execution_count": 25,
   "id": "08a39352",
   "metadata": {},
   "outputs": [],
   "source": [
    "# Top 15 best and worst features affecting the model with the given training data\n",
    "def print_state_features(state_features):\n",
    "    for (attr, label), weight in state_features:\n",
    "        print(\"%0.6f %-8s %s\" % (weight, label, attr))"
   ]
  },
  {
   "cell_type": "code",
   "execution_count": 26,
   "id": "db1da169",
   "metadata": {},
   "outputs": [
    {
     "name": "stdout",
     "output_type": "stream",
     "text": [
      "Top positive:\n",
      "2.626868 NSN      word[:1]:#\n",
      "2.175729 SN       -1:word.upper():#\n",
      "2.175729 SN       -1:word[-1:]:#\n",
      "1.662193 NSN      -1:word.hasdigit()\n",
      "1.638330 NSN      word[:1]:0\n",
      "1.472217 SN       word.isdigit()\n",
      "1.465853 SN       +1:word.isdigit()\n",
      "1.099592 NSN      word.hasalpha()\n",
      "1.079378 NSN      +1:word.hasalpha()\n",
      "1.040465 NSN      -1:word[-1:]:F\n",
      "1.032158 NSN      -1:word.upper():F\n",
      "0.979662 NSN      word[:2]:00\n",
      "0.952407 NSN      word[:3]:000\n",
      "0.908008 SN       word[:1]:4\n",
      "0.880891 SN       -1:word[-4:]:LD'S\n",
      "\n",
      "Top negative:\n",
      "-0.663869 SN       +1:word[-3:]:0\n",
      "-0.669943 NSN      -1:word[-2:]:'S\n",
      "-0.672881 SN       -2:word.hasdigit()\n",
      "-0.739516 NSN      word[:1]:2\n",
      "-0.748453 NSN      word.hasdigit()\n",
      "-0.866742 NSN      -1:word[:1]:K\n",
      "-0.878568 SN       +1:word.hasdigit()\n",
      "-0.880891 NSN      -1:word[-4:]:LD'S\n",
      "-0.880891 NSN      -1:word[-3:]:D'S\n",
      "-0.908008 NSN      word[:1]:4\n",
      "-1.079378 SN       +1:word.hasalpha()\n",
      "-1.099592 SN       word.hasalpha()\n",
      "-1.465853 NSN      +1:word.isdigit()\n",
      "-1.472217 NSN      word.isdigit()\n",
      "-1.662193 SN       -1:word.hasdigit()\n"
     ]
    }
   ],
   "source": [
    "# Print top and worst 15 features affecting the model\n",
    "print(\"Top positive:\")\n",
    "print_state_features(Counter(crf.state_features_).most_common(15))\n",
    "\n",
    "print(\"\\nTop negative:\")\n",
    "print_state_features(Counter(crf.state_features_).most_common()[-15:])"
   ]
  },
  {
   "cell_type": "code",
   "execution_count": 27,
   "id": "bd344363",
   "metadata": {},
   "outputs": [],
   "source": [
    "# Function to plot the learning  curve from the model\n",
    "\n",
    "def plot_learning_curve(train_sizes, train_mean, train_std, test_mean, test_std):\n",
    "    # Plot training accuracy means for a given series of training sizes\n",
    "    plt.plot(train_sizes, train_mean, color=\"blue\", marker=\"o\", markersize=5, label=\"Training accuracy\")\n",
    "    # Add a coloured fill showing the standard deviation of the training accuracy for a given series of training sizes\n",
    "    plt.fill_between(train_sizes, train_mean + train_std, train_mean - train_std, alpha=0.15, color=\"blue\")\n",
    "    # Plot test accuracy means for a given series of training sizes\n",
    "    plt.plot(train_sizes, test_mean, color=\"green\", linestyle=\"--\", marker=\"s\", markersize=5, label=\"Test accuracy\")\n",
    "    # Add a coloured fill showing the standard deviation of the test accuracy for a given series of training sizes\n",
    "    plt.fill_between(train_sizes, test_mean + test_std, test_mean - test_std, alpha=0.15, color=\"green\")\n",
    "    # Add gridlines to the plot\n",
    "    plt.grid()\n",
    "    # Add captions to the X and Y axes of the plot\n",
    "    plt.xlabel(\"Number of training samples\")\n",
    "    plt.ylabel(\"Accuracy\")\n",
    "    # Provide a location for the plot's legend/key\n",
    "    plt.legend(loc=\"lower right\")\n",
    "    # Set upper and lower limits on the y axis\n",
    "    plt.ylim([0.8, 1.0])\n",
    "    # Show the plot\n",
    "    plt.show()"
   ]
  },
  {
   "cell_type": "code",
   "execution_count": 28,
   "id": "ea0c0679",
   "metadata": {},
   "outputs": [
    {
     "name": "stdout",
     "output_type": "stream",
     "text": [
      "[learning_curve] Training set sizes: [ 6 13 19 26 33 39 46 52 59 66]\n"
     ]
    },
    {
     "name": "stderr",
     "output_type": "stream",
     "text": [
      "[Parallel(n_jobs=-1)]: Using backend LokyBackend with 16 concurrent workers.\n",
      "[Parallel(n_jobs=-1)]: Done  30 out of  30 | elapsed:    0.4s finished\n"
     ]
    },
    {
     "data": {
      "image/png": "[encoded data removed]",
      "text/plain": [
       "<Figure size 432x288 with 1 Axes>"
      ]
     },
     "metadata": {
      "needs_background": "light"
     },
     "output_type": "display_data"
    }
   ],
   "source": [
    "# Produce the necessary data for a learning curve\n",
    "train_sizes, train_scores, test_scores = learning_curve(estimator=crf,\n",
    "                                                        X=X_train,\n",
    "                                                        y=y_train,\n",
    "                                                        train_sizes=np.linspace(0.1, 1.0, 10),\n",
    "                                                        cv=3,\n",
    "                                                        verbose=1,\n",
    "                                                        n_jobs=-1)\n",
    "\n",
    "# Find the means and standard deviations of the training and test datasets across the learning curve\n",
    "train_mean = np.mean(train_scores, axis=1)\n",
    "train_std = np.std(train_scores, axis=1)\n",
    "test_mean = np.mean(test_scores, axis=1)\n",
    "test_std = np.std(test_scores, axis=1)\n",
    "\n",
    "# Plot the learning curve\n",
    "plot_learning_curve(train_sizes, train_mean, train_std, test_mean, test_std)"
   ]
  },
  {
   "cell_type": "code",
   "execution_count": 29,
   "id": "eca55e70",
   "metadata": {},
   "outputs": [
    {
     "data": {
      "text/html": [
       "\n",
       "    <style>\n",
       "    table.eli5-weights tr:hover {\n",
       "        filter: brightness(85%);\n",
       "    }\n",
       "</style>\n",
       "\n",
       "\n",
       "\n",
       "    \n",
       "\n",
       "    \n",
       "\n",
       "    \n",
       "        \n",
       "\n",
       "\n",
       "<table class=\"eli5-transition-features\" style=\"margin-bottom: 0.5em;\">\n",
       "    <thead>\n",
       "        <tr>\n",
       "            <td>From \\ To</td>\n",
       "            \n",
       "                <th>NSN</th>\n",
       "            \n",
       "                <th>SN</th>\n",
       "            \n",
       "        </tr>\n",
       "    </thead>\n",
       "    <tbody>\n",
       "        \n",
       "            \n",
       "                <tr>\n",
       "                    <th>NSN</th>\n",
       "                    \n",
       "                        <td style=\"background-color: hsl(120, 100.00%, 84.22%)\" title=\"NSN &rArr; NSN\">\n",
       "                            1.235\n",
       "                        </td>\n",
       "                    \n",
       "                        <td style=\"background-color: hsl(120, 100.00%, 86.45%)\" title=\"NSN &rArr; SN\">\n",
       "                            0.993\n",
       "                        </td>\n",
       "                    \n",
       "                </tr>\n",
       "            \n",
       "                <tr>\n",
       "                    <th>SN</th>\n",
       "                    \n",
       "                        <td style=\"background-color: hsl(0, 100.00%, 92.96%)\" title=\"SN &rArr; NSN\">\n",
       "                            -0.39\n",
       "                        </td>\n",
       "                    \n",
       "                        <td style=\"background-color: hsl(0, 100.00%, 80.00%)\" title=\"SN &rArr; SN\">\n",
       "                            -1.732\n",
       "                        </td>\n",
       "                    \n",
       "                </tr>\n",
       "            \n",
       "        \n",
       "    </tbody>\n",
       "</table>\n",
       "    \n",
       "\n",
       "    \n",
       "\n",
       "    \n",
       "\n",
       "    \n",
       "\n",
       "\n",
       "    \n",
       "\n",
       "    \n",
       "\n",
       "    \n",
       "\n",
       "    \n",
       "        \n",
       "\n",
       "    \n",
       "        <table class=\"eli5-weights-wrapper\" style=\"border-collapse: collapse; border: none; margin-bottom: 1.5em;\">\n",
       "            <tr>\n",
       "                \n",
       "                    <td style=\"padding: 0.5em; border: 1px solid black; text-align: center;\">\n",
       "                        <b>\n",
       "    \n",
       "        y=NSN\n",
       "    \n",
       "</b>\n",
       "\n",
       "top features\n",
       "                    </td>\n",
       "                \n",
       "                    <td style=\"padding: 0.5em; border: 1px solid black; text-align: center;\">\n",
       "                        <b>\n",
       "    \n",
       "        y=SN\n",
       "    \n",
       "</b>\n",
       "\n",
       "top features\n",
       "                    </td>\n",
       "                \n",
       "            </tr>\n",
       "            <tr>\n",
       "                \n",
       "                    \n",
       "                        <td style=\"padding: 0px; border: 1px solid black; vertical-align: top;\">\n",
       "                            \n",
       "                                \n",
       "                                    \n",
       "                                    \n",
       "    \n",
       "    <table class=\"eli5-weights\"\n",
       "           style=\"border-collapse: collapse; border: none; margin-top: 0em; table-layout: auto; width: 100%;\">\n",
       "        <thead>\n",
       "        <tr style=\"border: none;\">\n",
       "            \n",
       "                <th style=\"padding: 0 1em 0 0.5em; text-align: right; border: none;\" title=\"Feature weights. Note that weights do not account for feature value scales, so if feature values have different scales, features with highest weights might not be the most important.\">\n",
       "                    Weight<sup>?</sup>\n",
       "                </th>\n",
       "            \n",
       "            <th style=\"padding: 0 0.5em 0 0.5em; text-align: left; border: none;\">Feature</th>\n",
       "            \n",
       "        </tr>\n",
       "        </thead>\n",
       "        <tbody>\n",
       "        \n",
       "            <tr style=\"background-color: hsl(120, 100.00%, 80.00%); border: none;\">\n",
       "    <td style=\"padding: 0 1em 0 0.5em; text-align: right; border: none;\">\n",
       "        +2.627\n",
       "    </td>\n",
       "    <td style=\"padding: 0 0.5em 0 0.5em; text-align: left; border: none;\">\n",
       "        word[:1]:#\n",
       "    </td>\n",
       "    \n",
       "</tr>\n",
       "        \n",
       "            <tr style=\"background-color: hsl(120, 100.00%, 85.48%); border: none;\">\n",
       "    <td style=\"padding: 0 1em 0 0.5em; text-align: right; border: none;\">\n",
       "        +1.662\n",
       "    </td>\n",
       "    <td style=\"padding: 0 0.5em 0 0.5em; text-align: left; border: none;\">\n",
       "        -1:word.hasdigit()\n",
       "    </td>\n",
       "    \n",
       "</tr>\n",
       "        \n",
       "            <tr style=\"background-color: hsl(120, 100.00%, 85.63%); border: none;\">\n",
       "    <td style=\"padding: 0 1em 0 0.5em; text-align: right; border: none;\">\n",
       "        +1.638\n",
       "    </td>\n",
       "    <td style=\"padding: 0 0.5em 0 0.5em; text-align: left; border: none;\">\n",
       "        word[:1]:0\n",
       "    </td>\n",
       "    \n",
       "</tr>\n",
       "        \n",
       "            <tr style=\"background-color: hsl(120, 100.00%, 89.13%); border: none;\">\n",
       "    <td style=\"padding: 0 1em 0 0.5em; text-align: right; border: none;\">\n",
       "        +1.100\n",
       "    </td>\n",
       "    <td style=\"padding: 0 0.5em 0 0.5em; text-align: left; border: none;\">\n",
       "        word.hasalpha()\n",
       "    </td>\n",
       "    \n",
       "</tr>\n",
       "        \n",
       "            <tr style=\"background-color: hsl(120, 100.00%, 89.27%); border: none;\">\n",
       "    <td style=\"padding: 0 1em 0 0.5em; text-align: right; border: none;\">\n",
       "        +1.079\n",
       "    </td>\n",
       "    <td style=\"padding: 0 0.5em 0 0.5em; text-align: left; border: none;\">\n",
       "        +1:word.hasalpha()\n",
       "    </td>\n",
       "    \n",
       "</tr>\n",
       "        \n",
       "            <tr style=\"background-color: hsl(120, 100.00%, 89.54%); border: none;\">\n",
       "    <td style=\"padding: 0 1em 0 0.5em; text-align: right; border: none;\">\n",
       "        +1.040\n",
       "    </td>\n",
       "    <td style=\"padding: 0 0.5em 0 0.5em; text-align: left; border: none;\">\n",
       "        -1:word[-1:]:F\n",
       "    </td>\n",
       "    \n",
       "</tr>\n",
       "        \n",
       "            <tr style=\"background-color: hsl(120, 100.00%, 89.60%); border: none;\">\n",
       "    <td style=\"padding: 0 1em 0 0.5em; text-align: right; border: none;\">\n",
       "        +1.032\n",
       "    </td>\n",
       "    <td style=\"padding: 0 0.5em 0 0.5em; text-align: left; border: none;\">\n",
       "        -1:word.upper():F\n",
       "    </td>\n",
       "    \n",
       "</tr>\n",
       "        \n",
       "            <tr style=\"background-color: hsl(120, 100.00%, 89.97%); border: none;\">\n",
       "    <td style=\"padding: 0 1em 0 0.5em; text-align: right; border: none;\">\n",
       "        +0.980\n",
       "    </td>\n",
       "    <td style=\"padding: 0 0.5em 0 0.5em; text-align: left; border: none;\">\n",
       "        word[:2]:00\n",
       "    </td>\n",
       "    \n",
       "</tr>\n",
       "        \n",
       "            <tr style=\"background-color: hsl(120, 100.00%, 90.17%); border: none;\">\n",
       "    <td style=\"padding: 0 1em 0 0.5em; text-align: right; border: none;\">\n",
       "        +0.952\n",
       "    </td>\n",
       "    <td style=\"padding: 0 0.5em 0 0.5em; text-align: left; border: none;\">\n",
       "        word[:3]:000\n",
       "    </td>\n",
       "    \n",
       "</tr>\n",
       "        \n",
       "            <tr style=\"background-color: hsl(120, 100.00%, 90.71%); border: none;\">\n",
       "    <td style=\"padding: 0 1em 0 0.5em; text-align: right; border: none;\">\n",
       "        +0.879\n",
       "    </td>\n",
       "    <td style=\"padding: 0 0.5em 0 0.5em; text-align: left; border: none;\">\n",
       "        +1:word.hasdigit()\n",
       "    </td>\n",
       "    \n",
       "</tr>\n",
       "        \n",
       "            <tr style=\"background-color: hsl(120, 100.00%, 92.12%); border: none;\">\n",
       "    <td style=\"padding: 0 1em 0 0.5em; text-align: right; border: none;\">\n",
       "        +0.695\n",
       "    </td>\n",
       "    <td style=\"padding: 0 0.5em 0 0.5em; text-align: left; border: none;\">\n",
       "        +1:word[:1]:#\n",
       "    </td>\n",
       "    \n",
       "</tr>\n",
       "        \n",
       "            <tr style=\"background-color: hsl(120, 100.00%, 92.29%); border: none;\">\n",
       "    <td style=\"padding: 0 1em 0 0.5em; text-align: right; border: none;\">\n",
       "        +0.673\n",
       "    </td>\n",
       "    <td style=\"padding: 0 0.5em 0 0.5em; text-align: left; border: none;\">\n",
       "        -2:word.hasdigit()\n",
       "    </td>\n",
       "    \n",
       "</tr>\n",
       "        \n",
       "        \n",
       "            <tr style=\"background-color: hsl(120, 100.00%, 92.29%); border: none;\">\n",
       "                <td colspan=\"2\" style=\"padding: 0 0.5em 0 0.5em; text-align: center; border: none; white-space: nowrap;\">\n",
       "                    <i>&hellip; 472 more positive &hellip;</i>\n",
       "                </td>\n",
       "            </tr>\n",
       "        \n",
       "\n",
       "        \n",
       "            <tr style=\"background-color: hsl(0, 100.00%, 91.76%); border: none;\">\n",
       "                <td colspan=\"2\" style=\"padding: 0 0.5em 0 0.5em; text-align: center; border: none; white-space: nowrap;\">\n",
       "                    <i>&hellip; 245 more negative &hellip;</i>\n",
       "                </td>\n",
       "            </tr>\n",
       "        \n",
       "        \n",
       "            <tr style=\"background-color: hsl(0, 100.00%, 91.76%); border: none;\">\n",
       "    <td style=\"padding: 0 1em 0 0.5em; text-align: right; border: none;\">\n",
       "        -0.740\n",
       "    </td>\n",
       "    <td style=\"padding: 0 0.5em 0 0.5em; text-align: left; border: none;\">\n",
       "        word[:1]:2\n",
       "    </td>\n",
       "    \n",
       "</tr>\n",
       "        \n",
       "            <tr style=\"background-color: hsl(0, 100.00%, 91.70%); border: none;\">\n",
       "    <td style=\"padding: 0 1em 0 0.5em; text-align: right; border: none;\">\n",
       "        -0.748\n",
       "    </td>\n",
       "    <td style=\"padding: 0 0.5em 0 0.5em; text-align: left; border: none;\">\n",
       "        word.hasdigit()\n",
       "    </td>\n",
       "    \n",
       "</tr>\n",
       "        \n",
       "            <tr style=\"background-color: hsl(0, 100.00%, 90.80%); border: none;\">\n",
       "    <td style=\"padding: 0 1em 0 0.5em; text-align: right; border: none;\">\n",
       "        -0.867\n",
       "    </td>\n",
       "    <td style=\"padding: 0 0.5em 0 0.5em; text-align: left; border: none;\">\n",
       "        -1:word[:1]:K\n",
       "    </td>\n",
       "    \n",
       "</tr>\n",
       "        \n",
       "            <tr style=\"background-color: hsl(0, 100.00%, 90.69%); border: none;\">\n",
       "    <td style=\"padding: 0 1em 0 0.5em; text-align: right; border: none;\">\n",
       "        -0.881\n",
       "    </td>\n",
       "    <td style=\"padding: 0 0.5em 0 0.5em; text-align: left; border: none;\">\n",
       "        -1:word[-4:]:LD&#x27;S\n",
       "    </td>\n",
       "    \n",
       "</tr>\n",
       "        \n",
       "            <tr style=\"background-color: hsl(0, 100.00%, 90.69%); border: none;\">\n",
       "    <td style=\"padding: 0 1em 0 0.5em; text-align: right; border: none;\">\n",
       "        -0.881\n",
       "    </td>\n",
       "    <td style=\"padding: 0 0.5em 0 0.5em; text-align: left; border: none;\">\n",
       "        -1:word[-3:]:D&#x27;S\n",
       "    </td>\n",
       "    \n",
       "</tr>\n",
       "        \n",
       "            <tr style=\"background-color: hsl(0, 100.00%, 90.49%); border: none;\">\n",
       "    <td style=\"padding: 0 1em 0 0.5em; text-align: right; border: none;\">\n",
       "        -0.908\n",
       "    </td>\n",
       "    <td style=\"padding: 0 0.5em 0 0.5em; text-align: left; border: none;\">\n",
       "        word[:1]:4\n",
       "    </td>\n",
       "    \n",
       "</tr>\n",
       "        \n",
       "            <tr style=\"background-color: hsl(0, 100.00%, 86.71%); border: none;\">\n",
       "    <td style=\"padding: 0 1em 0 0.5em; text-align: right; border: none;\">\n",
       "        -1.466\n",
       "    </td>\n",
       "    <td style=\"padding: 0 0.5em 0 0.5em; text-align: left; border: none;\">\n",
       "        +1:word.isdigit()\n",
       "    </td>\n",
       "    \n",
       "</tr>\n",
       "        \n",
       "            <tr style=\"background-color: hsl(0, 100.00%, 86.66%); border: none;\">\n",
       "    <td style=\"padding: 0 1em 0 0.5em; text-align: right; border: none;\">\n",
       "        -1.472\n",
       "    </td>\n",
       "    <td style=\"padding: 0 0.5em 0 0.5em; text-align: left; border: none;\">\n",
       "        word.isdigit()\n",
       "    </td>\n",
       "    \n",
       "</tr>\n",
       "        \n",
       "\n",
       "        </tbody>\n",
       "    </table>\n",
       "\n",
       "                                \n",
       "                            \n",
       "                        </td>\n",
       "                    \n",
       "                        <td style=\"padding: 0px; border: 1px solid black; vertical-align: top;\">\n",
       "                            \n",
       "                                \n",
       "                                    \n",
       "                                    \n",
       "    \n",
       "    <table class=\"eli5-weights\"\n",
       "           style=\"border-collapse: collapse; border: none; margin-top: 0em; table-layout: auto; width: 100%;\">\n",
       "        <thead>\n",
       "        <tr style=\"border: none;\">\n",
       "            \n",
       "                <th style=\"padding: 0 1em 0 0.5em; text-align: right; border: none;\" title=\"Feature weights. Note that weights do not account for feature value scales, so if feature values have different scales, features with highest weights might not be the most important.\">\n",
       "                    Weight<sup>?</sup>\n",
       "                </th>\n",
       "            \n",
       "            <th style=\"padding: 0 0.5em 0 0.5em; text-align: left; border: none;\">Feature</th>\n",
       "            \n",
       "        </tr>\n",
       "        </thead>\n",
       "        <tbody>\n",
       "        \n",
       "            <tr style=\"background-color: hsl(120, 100.00%, 82.47%); border: none;\">\n",
       "    <td style=\"padding: 0 1em 0 0.5em; text-align: right; border: none;\">\n",
       "        +2.176\n",
       "    </td>\n",
       "    <td style=\"padding: 0 0.5em 0 0.5em; text-align: left; border: none;\">\n",
       "        -1:word[-1:]:#\n",
       "    </td>\n",
       "    \n",
       "</tr>\n",
       "        \n",
       "            <tr style=\"background-color: hsl(120, 100.00%, 82.47%); border: none;\">\n",
       "    <td style=\"padding: 0 1em 0 0.5em; text-align: right; border: none;\">\n",
       "        +2.176\n",
       "    </td>\n",
       "    <td style=\"padding: 0 0.5em 0 0.5em; text-align: left; border: none;\">\n",
       "        -1:word.upper():#\n",
       "    </td>\n",
       "    \n",
       "</tr>\n",
       "        \n",
       "            <tr style=\"background-color: hsl(120, 100.00%, 86.66%); border: none;\">\n",
       "    <td style=\"padding: 0 1em 0 0.5em; text-align: right; border: none;\">\n",
       "        +1.472\n",
       "    </td>\n",
       "    <td style=\"padding: 0 0.5em 0 0.5em; text-align: left; border: none;\">\n",
       "        word.isdigit()\n",
       "    </td>\n",
       "    \n",
       "</tr>\n",
       "        \n",
       "            <tr style=\"background-color: hsl(120, 100.00%, 86.71%); border: none;\">\n",
       "    <td style=\"padding: 0 1em 0 0.5em; text-align: right; border: none;\">\n",
       "        +1.466\n",
       "    </td>\n",
       "    <td style=\"padding: 0 0.5em 0 0.5em; text-align: left; border: none;\">\n",
       "        +1:word.isdigit()\n",
       "    </td>\n",
       "    \n",
       "</tr>\n",
       "        \n",
       "            <tr style=\"background-color: hsl(120, 100.00%, 90.49%); border: none;\">\n",
       "    <td style=\"padding: 0 1em 0 0.5em; text-align: right; border: none;\">\n",
       "        +0.908\n",
       "    </td>\n",
       "    <td style=\"padding: 0 0.5em 0 0.5em; text-align: left; border: none;\">\n",
       "        word[:1]:4\n",
       "    </td>\n",
       "    \n",
       "</tr>\n",
       "        \n",
       "            <tr style=\"background-color: hsl(120, 100.00%, 90.69%); border: none;\">\n",
       "    <td style=\"padding: 0 1em 0 0.5em; text-align: right; border: none;\">\n",
       "        +0.881\n",
       "    </td>\n",
       "    <td style=\"padding: 0 0.5em 0 0.5em; text-align: left; border: none;\">\n",
       "        -1:word[-4:]:LD&#x27;S\n",
       "    </td>\n",
       "    \n",
       "</tr>\n",
       "        \n",
       "            <tr style=\"background-color: hsl(120, 100.00%, 90.69%); border: none;\">\n",
       "    <td style=\"padding: 0 1em 0 0.5em; text-align: right; border: none;\">\n",
       "        +0.881\n",
       "    </td>\n",
       "    <td style=\"padding: 0 0.5em 0 0.5em; text-align: left; border: none;\">\n",
       "        -1:word[-3:]:D&#x27;S\n",
       "    </td>\n",
       "    \n",
       "</tr>\n",
       "        \n",
       "            <tr style=\"background-color: hsl(120, 100.00%, 90.80%); border: none;\">\n",
       "    <td style=\"padding: 0 1em 0 0.5em; text-align: right; border: none;\">\n",
       "        +0.867\n",
       "    </td>\n",
       "    <td style=\"padding: 0 0.5em 0 0.5em; text-align: left; border: none;\">\n",
       "        -1:word[:1]:K\n",
       "    </td>\n",
       "    \n",
       "</tr>\n",
       "        \n",
       "            <tr style=\"background-color: hsl(120, 100.00%, 91.70%); border: none;\">\n",
       "    <td style=\"padding: 0 1em 0 0.5em; text-align: right; border: none;\">\n",
       "        +0.748\n",
       "    </td>\n",
       "    <td style=\"padding: 0 0.5em 0 0.5em; text-align: left; border: none;\">\n",
       "        word.hasdigit()\n",
       "    </td>\n",
       "    \n",
       "</tr>\n",
       "        \n",
       "            <tr style=\"background-color: hsl(120, 100.00%, 91.76%); border: none;\">\n",
       "    <td style=\"padding: 0 1em 0 0.5em; text-align: right; border: none;\">\n",
       "        +0.740\n",
       "    </td>\n",
       "    <td style=\"padding: 0 0.5em 0 0.5em; text-align: left; border: none;\">\n",
       "        word[:1]:2\n",
       "    </td>\n",
       "    \n",
       "</tr>\n",
       "        \n",
       "            <tr style=\"background-color: hsl(120, 100.00%, 92.31%); border: none;\">\n",
       "    <td style=\"padding: 0 1em 0 0.5em; text-align: right; border: none;\">\n",
       "        +0.670\n",
       "    </td>\n",
       "    <td style=\"padding: 0 0.5em 0 0.5em; text-align: left; border: none;\">\n",
       "        -1:word[-2:]:&#x27;S\n",
       "    </td>\n",
       "    \n",
       "</tr>\n",
       "        \n",
       "            <tr style=\"background-color: hsl(120, 100.00%, 92.71%); border: none;\">\n",
       "    <td style=\"padding: 0 1em 0 0.5em; text-align: right; border: none;\">\n",
       "        +0.621\n",
       "    </td>\n",
       "    <td style=\"padding: 0 0.5em 0 0.5em; text-align: left; border: none;\">\n",
       "        -1:word[:2]:F3\n",
       "    </td>\n",
       "    \n",
       "</tr>\n",
       "        \n",
       "            <tr style=\"background-color: hsl(120, 100.00%, 92.72%); border: none;\">\n",
       "    <td style=\"padding: 0 1em 0 0.5em; text-align: right; border: none;\">\n",
       "        +0.621\n",
       "    </td>\n",
       "    <td style=\"padding: 0 0.5em 0 0.5em; text-align: left; border: none;\">\n",
       "        -1:word.upper():F35869MCDONALD&#x27;S\n",
       "    </td>\n",
       "    \n",
       "</tr>\n",
       "        \n",
       "        \n",
       "            <tr style=\"background-color: hsl(120, 100.00%, 92.72%); border: none;\">\n",
       "                <td colspan=\"2\" style=\"padding: 0 0.5em 0 0.5em; text-align: center; border: none; white-space: nowrap;\">\n",
       "                    <i>&hellip; 480 more positive &hellip;</i>\n",
       "                </td>\n",
       "            </tr>\n",
       "        \n",
       "\n",
       "        \n",
       "            <tr style=\"background-color: hsl(0, 100.00%, 92.45%); border: none;\">\n",
       "                <td colspan=\"2\" style=\"padding: 0 0.5em 0 0.5em; text-align: center; border: none; white-space: nowrap;\">\n",
       "                    <i>&hellip; 134 more negative &hellip;</i>\n",
       "                </td>\n",
       "            </tr>\n",
       "        \n",
       "        \n",
       "            <tr style=\"background-color: hsl(0, 100.00%, 92.45%); border: none;\">\n",
       "    <td style=\"padding: 0 1em 0 0.5em; text-align: right; border: none;\">\n",
       "        -0.654\n",
       "    </td>\n",
       "    <td style=\"padding: 0 0.5em 0 0.5em; text-align: left; border: none;\">\n",
       "        -2:word.isdigit()\n",
       "    </td>\n",
       "    \n",
       "</tr>\n",
       "        \n",
       "            <tr style=\"background-color: hsl(0, 100.00%, 92.36%); border: none;\">\n",
       "    <td style=\"padding: 0 1em 0 0.5em; text-align: right; border: none;\">\n",
       "        -0.664\n",
       "    </td>\n",
       "    <td style=\"padding: 0 0.5em 0 0.5em; text-align: left; border: none;\">\n",
       "        +1:word[-3:]:0\n",
       "    </td>\n",
       "    \n",
       "</tr>\n",
       "        \n",
       "            <tr style=\"background-color: hsl(0, 100.00%, 92.29%); border: none;\">\n",
       "    <td style=\"padding: 0 1em 0 0.5em; text-align: right; border: none;\">\n",
       "        -0.673\n",
       "    </td>\n",
       "    <td style=\"padding: 0 0.5em 0 0.5em; text-align: left; border: none;\">\n",
       "        -2:word.hasdigit()\n",
       "    </td>\n",
       "    \n",
       "</tr>\n",
       "        \n",
       "            <tr style=\"background-color: hsl(0, 100.00%, 90.71%); border: none;\">\n",
       "    <td style=\"padding: 0 1em 0 0.5em; text-align: right; border: none;\">\n",
       "        -0.879\n",
       "    </td>\n",
       "    <td style=\"padding: 0 0.5em 0 0.5em; text-align: left; border: none;\">\n",
       "        +1:word.hasdigit()\n",
       "    </td>\n",
       "    \n",
       "</tr>\n",
       "        \n",
       "            <tr style=\"background-color: hsl(0, 100.00%, 89.27%); border: none;\">\n",
       "    <td style=\"padding: 0 1em 0 0.5em; text-align: right; border: none;\">\n",
       "        -1.079\n",
       "    </td>\n",
       "    <td style=\"padding: 0 0.5em 0 0.5em; text-align: left; border: none;\">\n",
       "        +1:word.hasalpha()\n",
       "    </td>\n",
       "    \n",
       "</tr>\n",
       "        \n",
       "            <tr style=\"background-color: hsl(0, 100.00%, 89.13%); border: none;\">\n",
       "    <td style=\"padding: 0 1em 0 0.5em; text-align: right; border: none;\">\n",
       "        -1.100\n",
       "    </td>\n",
       "    <td style=\"padding: 0 0.5em 0 0.5em; text-align: left; border: none;\">\n",
       "        word.hasalpha()\n",
       "    </td>\n",
       "    \n",
       "</tr>\n",
       "        \n",
       "            <tr style=\"background-color: hsl(0, 100.00%, 85.48%); border: none;\">\n",
       "    <td style=\"padding: 0 1em 0 0.5em; text-align: right; border: none;\">\n",
       "        -1.662\n",
       "    </td>\n",
       "    <td style=\"padding: 0 0.5em 0 0.5em; text-align: left; border: none;\">\n",
       "        -1:word.hasdigit()\n",
       "    </td>\n",
       "    \n",
       "</tr>\n",
       "        \n",
       "\n",
       "        </tbody>\n",
       "    </table>\n",
       "\n",
       "                                \n",
       "                            \n",
       "                        </td>\n",
       "                    \n",
       "                \n",
       "            </tr>\n",
       "        </table>\n",
       "    \n",
       "\n",
       "    \n",
       "        \n",
       "\n",
       "\n",
       "    \n",
       "        \n",
       "\n",
       "\n",
       "    \n",
       "\n",
       "\n",
       "    \n",
       "\n",
       "    \n",
       "\n",
       "    \n",
       "\n",
       "\n",
       "    \n",
       "\n",
       "    \n",
       "\n",
       "    \n",
       "\n",
       "    \n",
       "\n",
       "    \n",
       "\n",
       "    \n",
       "\n",
       "\n",
       "    \n",
       "\n",
       "    \n",
       "\n",
       "    \n",
       "\n",
       "    \n",
       "\n",
       "    \n",
       "\n",
       "    \n",
       "\n",
       "\n",
       "\n"
      ],
      "text/plain": [
       "<IPython.core.display.HTML object>"
      ]
     },
     "execution_count": 29,
     "metadata": {},
     "output_type": "execute_result"
    }
   ],
   "source": [
    "#Explicit description of weights and likely transition \n",
    "eli5.show_weights(crf, top=20)"
   ]
  },
  {
   "cell_type": "code",
   "execution_count": 30,
   "id": "5739c0e3",
   "metadata": {},
   "outputs": [],
   "source": [
    "#Extracting predictions of store number with index\n",
    "out = []\n",
    "sn_index = []\n",
    "not_sn_index = []\n",
    "for i in range(len(y_pred)):\n",
    "    if ('SN' in y_pred[i]) == True: \n",
    "        out.append(X_test[i][y_pred[i].index('SN')]['word.upper()'])\n",
    "        sn_index.append(i)\n",
    "    else : \n",
    "        not_sn_index.append(i)"
   ]
  },
  {
   "cell_type": "code",
   "execution_count": 31,
   "id": "88329228",
   "metadata": {},
   "outputs": [],
   "source": [
    "#Creating new dataframe and assigning 'No Predictions' to values not assigned\n",
    "final_pred = pd.DataFrame(out,sn_index)\n",
    "final_pred.rename(columns={0: \"Predicted Store Numbers\"}, inplace = True)\n",
    "for ab in not_sn_index:\n",
    "    final_pred.loc[ab] = ['No Predictions']  # adding a new row\n",
    "    final_pred = final_pred.sort_index()  # sorting by index"
   ]
  },
  {
   "cell_type": "code",
   "execution_count": 32,
   "id": "0bb1cd3d",
   "metadata": {
    "scrolled": true
   },
   "outputs": [
    {
     "data": {
      "text/html": [
       "<div>\n",
       "<style scoped>\n",
       "    .dataframe tbody tr th:only-of-type {\n",
       "        vertical-align: middle;\n",
       "    }\n",
       "\n",
       "    .dataframe tbody tr th {\n",
       "        vertical-align: top;\n",
       "    }\n",
       "\n",
       "    .dataframe thead th {\n",
       "        text-align: right;\n",
       "    }\n",
       "</style>\n",
       "<table border=\"1\" class=\"dataframe\">\n",
       "  <thead>\n",
       "    <tr style=\"text-align: right;\">\n",
       "      <th></th>\n",
       "      <th>transaction_descriptor</th>\n",
       "      <th>Predicted Store Numbers</th>\n",
       "    </tr>\n",
       "  </thead>\n",
       "  <tbody>\n",
       "    <tr>\n",
       "      <th>0</th>\n",
       "      <td>IN-N-OUT BURGER #242</td>\n",
       "      <td>242</td>\n",
       "    </tr>\n",
       "    <tr>\n",
       "      <th>1</th>\n",
       "      <td>BP#9442088LIBERTYVILLE B</td>\n",
       "      <td>9442088</td>\n",
       "    </tr>\n",
       "    <tr>\n",
       "      <th>2</th>\n",
       "      <td>JCPENNEY 1419</td>\n",
       "      <td>1419</td>\n",
       "    </tr>\n",
       "    <tr>\n",
       "      <th>3</th>\n",
       "      <td>ROSS STORES #1019</td>\n",
       "      <td>1019</td>\n",
       "    </tr>\n",
       "    <tr>\n",
       "      <th>4</th>\n",
       "      <td>WM SUPERCENTER #38</td>\n",
       "      <td>38</td>\n",
       "    </tr>\n",
       "    <tr>\n",
       "      <th>...</th>\n",
       "      <td>...</td>\n",
       "      <td>...</td>\n",
       "    </tr>\n",
       "    <tr>\n",
       "      <th>95</th>\n",
       "      <td>MCDONALD'S F2151</td>\n",
       "      <td>F2151</td>\n",
       "    </tr>\n",
       "    <tr>\n",
       "      <th>96</th>\n",
       "      <td>NST BEST BUY #1403 332411</td>\n",
       "      <td>1403</td>\n",
       "    </tr>\n",
       "    <tr>\n",
       "      <th>97</th>\n",
       "      <td>CVS/PHARMACY #06689</td>\n",
       "      <td>6689</td>\n",
       "    </tr>\n",
       "    <tr>\n",
       "      <th>98</th>\n",
       "      <td>BANANA REPUBLIC #8109</td>\n",
       "      <td>8109</td>\n",
       "    </tr>\n",
       "    <tr>\n",
       "      <th>99</th>\n",
       "      <td>BOSTON MARKET 0443</td>\n",
       "      <td>443</td>\n",
       "    </tr>\n",
       "  </tbody>\n",
       "</table>\n",
       "<p>100 rows × 2 columns</p>\n",
       "</div>"
      ],
      "text/plain": [
       "       transaction_descriptor Predicted Store Numbers\n",
       "0        IN-N-OUT BURGER #242                     242\n",
       "1    BP#9442088LIBERTYVILLE B                 9442088\n",
       "2               JCPENNEY 1419                    1419\n",
       "3           ROSS STORES #1019                    1019\n",
       "4          WM SUPERCENTER #38                      38\n",
       "..                        ...                     ...\n",
       "95           MCDONALD'S F2151                   F2151\n",
       "96  NST BEST BUY #1403 332411                    1403\n",
       "97        CVS/PHARMACY #06689                    6689\n",
       "98      BANANA REPUBLIC #8109                    8109\n",
       "99         BOSTON MARKET 0443                     443\n",
       "\n",
       "[100 rows x 2 columns]"
      ]
     },
     "execution_count": 32,
     "metadata": {},
     "output_type": "execute_result"
    }
   ],
   "source": [
    "#Comparing test data input string with predicted values\n",
    "store_comp = pd.concat([test_data['transaction_descriptor'], final_pred],axis = 1)\n",
    "#Printing final results\n",
    "store_comp"
   ]
  },
  {
   "cell_type": "code",
   "execution_count": 33,
   "id": "179d5dc7",
   "metadata": {},
   "outputs": [],
   "source": [
    "#Export the result as CSV file\n",
    "store_comp.to_csv('Test_Result.csv',index=False)"
   ]
  }
 ],
 "metadata": {
  "kernelspec": {
   "display_name": "Python 3",
   "language": "python",
   "name": "python3"
  },
  "language_info": {
   "codemirror_mode": {
    "name": "ipython",
    "version": 3
   },
   "file_extension": ".py",
   "mimetype": "text/x-python",
   "name": "python",
   "nbconvert_exporter": "python",
   "pygments_lexer": "ipython3",
   "version": "3.8.8"
  }
 },
 "nbformat": 4,
 "nbformat_minor": 5
}
